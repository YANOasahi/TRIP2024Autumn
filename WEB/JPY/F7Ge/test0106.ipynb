{
 "cells": [
  {
   "cell_type": "code",
   "execution_count": 1,
   "id": "67086462-a817-4f45-9381-e5f0ddb52e44",
   "metadata": {},
   "outputs": [
    {
     "name": "stdout",
     "output_type": "stream",
     "text": [
      "add include path : /home/exp/ANAROOT/anaroot/include\n",
      "reading libXMLParser.so\n",
      "reading libananadeko.so\n",
      "reading libanacore.so\n",
      "reading libanabrips.so\n",
      "reading libanadali.so\n",
      "reading libanasamurai.so\n",
      "reading libanacatana.so\n",
      "reading libanaespri.so\n",
      "reading libanawinds.so\n",
      "reading libanaloop.so\n",
      "reading libanaloopexample.so\n",
      "reading libanaloopencexample.so\n"
     ]
    }
   ],
   "source": [
    "#F7Ge MADC test | delay 5 points, 5V\t\n",
    "import ROOT as r\n",
    "import numpy as np\n",
    "%jsroot\n",
    "\n",
    "r.gROOT.ProcessLine(\".x ../../../rootlogon.C\")\n",
    "\n",
    "file_path = '../../../ROOT/test0106.root'\n",
    "root_file = r.TFile(file_path)\n",
    "\n",
    "NumOfHist = 7"
   ]
  },
  {
   "cell_type": "code",
   "execution_count": 2,
   "id": "fe851fd2-2584-44ca-b7d1-4c51b7639fe2",
   "metadata": {},
   "outputs": [
    {
     "ename": "AttributeError",
     "evalue": "Failed to get attribute c1 from ROOT",
     "output_type": "error",
     "traceback": [
      "\u001b[0;31m---------------------------------------------------------------------------\u001b[0m",
      "\u001b[0;31mAttributeError\u001b[0m                            Traceback (most recent call last)",
      "Cell \u001b[0;32mIn[2], line 9\u001b[0m\n\u001b[1;32m      7\u001b[0m r\u001b[38;5;241m.\u001b[39mtree\u001b[38;5;241m.\u001b[39mDraw(\u001b[38;5;124m\"\u001b[39m\u001b[38;5;124mF7Ge_Eraw[14]>>(8400,50,8400)\u001b[39m\u001b[38;5;124m\"\u001b[39m)\n\u001b[1;32m      8\u001b[0m r\u001b[38;5;241m.\u001b[39mtree\u001b[38;5;241m.\u001b[39mDraw(\u001b[38;5;124m\"\u001b[39m\u001b[38;5;124mF7Ge_Eraw[15]>>(8400,50,8400)\u001b[39m\u001b[38;5;124m\"\u001b[39m)\n\u001b[0;32m----> 9\u001b[0m \u001b[43mr\u001b[49m\u001b[38;5;241;43m.\u001b[39;49m\u001b[43mc1\u001b[49m\u001b[38;5;241m.\u001b[39mDraw()\n",
      "File \u001b[0;32m~/ROOT/root/lib/ROOT/_facade.py:164\u001b[0m, in \u001b[0;36mROOTFacade._fallback_getattr\u001b[0;34m(self, name)\u001b[0m\n\u001b[1;32m    162\u001b[0m     \u001b[38;5;28;01mif\u001b[39;00m res:\n\u001b[1;32m    163\u001b[0m         \u001b[38;5;28;01mreturn\u001b[39;00m res\n\u001b[0;32m--> 164\u001b[0m \u001b[38;5;28;01mraise\u001b[39;00m \u001b[38;5;167;01mAttributeError\u001b[39;00m(\u001b[38;5;124m\"\u001b[39m\u001b[38;5;124mFailed to get attribute \u001b[39m\u001b[38;5;132;01m{}\u001b[39;00m\u001b[38;5;124m from ROOT\u001b[39m\u001b[38;5;124m\"\u001b[39m\u001b[38;5;241m.\u001b[39mformat(name))\n",
      "\u001b[0;31mAttributeError\u001b[0m: Failed to get attribute c1 from ROOT"
     ]
    },
    {
     "name": "stderr",
     "output_type": "stream",
     "text": [
      "Error in <TTreeFormula::TTreeFormula>: Index 8 for dimension #1 in F7Ge_Eraw[8] is too high (max is 7)\n",
      "Info in <TSelectorDraw::AbortProcess>: Variable compilation failed: {F7Ge_Eraw[8],}\n",
      "Error in <TTreeFormula::TTreeFormula>: Index 9 for dimension #1 in F7Ge_Eraw[9] is too high (max is 7)\n",
      "Info in <TSelectorDraw::AbortProcess>: Variable compilation failed: {F7Ge_Eraw[9],}\n",
      "Error in <TTreeFormula::TTreeFormula>: Index 10 for dimension #1 in F7Ge_Eraw[10] is too high (max is 7)\n",
      "Info in <TSelectorDraw::AbortProcess>: Variable compilation failed: {F7Ge_Eraw[10],}\n",
      "Error in <TTreeFormula::TTreeFormula>: Index 11 for dimension #1 in F7Ge_Eraw[11] is too high (max is 7)\n",
      "Info in <TSelectorDraw::AbortProcess>: Variable compilation failed: {F7Ge_Eraw[11],}\n",
      "Error in <TTreeFormula::TTreeFormula>: Index 12 for dimension #1 in F7Ge_Eraw[12] is too high (max is 7)\n",
      "Info in <TSelectorDraw::AbortProcess>: Variable compilation failed: {F7Ge_Eraw[12],}\n",
      "Error in <TTreeFormula::TTreeFormula>: Index 13 for dimension #1 in F7Ge_Eraw[13] is too high (max is 7)\n",
      "Info in <TSelectorDraw::AbortProcess>: Variable compilation failed: {F7Ge_Eraw[13],}\n",
      "Error in <TTreeFormula::TTreeFormula>: Index 14 for dimension #1 in F7Ge_Eraw[14] is too high (max is 7)\n",
      "Info in <TSelectorDraw::AbortProcess>: Variable compilation failed: {F7Ge_Eraw[14],}\n",
      "Error in <TTreeFormula::TTreeFormula>: Index 15 for dimension #1 in F7Ge_Eraw[15] is too high (max is 7)\n",
      "Info in <TSelectorDraw::AbortProcess>: Variable compilation failed: {F7Ge_Eraw[15],}\n"
     ]
    }
   ],
   "source": [
    "r.tree.Draw(\"F7Ge_Eraw[8]>>(8400,50,8400)\")\n",
    "r.tree.Draw(\"F7Ge_Eraw[9]>>(8400,50,8400)\")\n",
    "r.tree.Draw(\"F7Ge_Eraw[10]>>(8400,50,8400)\")\n",
    "r.tree.Draw(\"F7Ge_Eraw[11]>>(8400,50,8400)\")\n",
    "r.tree.Draw(\"F7Ge_Eraw[12]>>(8400,50,8400)\")\n",
    "r.tree.Draw(\"F7Ge_Eraw[13]>>(8400,50,8400)\")\n",
    "r.tree.Draw(\"F7Ge_Eraw[14]>>(8400,50,8400)\")\n",
    "r.tree.Draw(\"F7Ge_Eraw[15]>>(8400,50,8400)\")\n",
    "r.c1.Draw()"
   ]
  }
 ],
 "metadata": {
  "kernelspec": {
   "display_name": "Python 3 (ipykernel)",
   "language": "python",
   "name": "python3"
  },
  "language_info": {
   "codemirror_mode": {
    "name": "ipython",
    "version": 3
   },
   "file_extension": ".py",
   "mimetype": "text/x-python",
   "name": "python",
   "nbconvert_exporter": "python",
   "pygments_lexer": "ipython3",
   "version": "3.12.3"
  }
 },
 "nbformat": 4,
 "nbformat_minor": 5
}
